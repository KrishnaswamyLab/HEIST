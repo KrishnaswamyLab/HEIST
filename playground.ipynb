{
 "cells": [
  {
   "cell_type": "code",
   "execution_count": 2,
   "id": "036adf6d",
   "metadata": {},
   "outputs": [
    {
     "name": "stderr",
     "output_type": "stream",
     "text": [
      "0it [00:00, ?it/s]"
     ]
    },
    {
     "name": "stderr",
     "output_type": "stream",
     "text": [
      "7it [00:12,  1.82s/it]\n"
     ]
    }
   ],
   "source": [
    "import torch\n",
    "import anndata\n",
    "import numpy as np\n",
    "import pandas as pd\n",
    "from tqdm import tqdm\n",
    "from glob import glob\n",
    "pt_files = sorted(glob(\"/gpfs/gibbs/pi/krishnaswamy_smita/hm638/SCGFM/data/merfish_brain_preprocessed/*\"))\n",
    "for i, file in tqdm(enumerate(pt_files)):\n",
    "    slide_name = file.split(\"/\")[-1][:-3]\n",
    "    graphs = torch.load(file, weights_only=False)\n",
    "    X = []\n",
    "    for k in range(1, len(graphs)):\n",
    "        X.append(graphs[k].X.squeeze(1).tolist())\n",
    "    pos = graphs[0].X.float().numpy()\n",
    "    X = np.array(X)\n",
    "    adata = anndata.AnnData(X)\n",
    "    adata.obsm['spatial'] = pos\n",
    "    adata.obs['cell_type'] = graphs[0].cell_type\n",
    "    adata.write(\"/gpfs/gibbs/pi/krishnaswamy_smita/hm638/SCGFM/data/adata/merfish-brain/\"+slide_name+\".h5ad\")"
   ]
  },
  {
   "cell_type": "code",
   "execution_count": 4,
   "id": "2c9ddbef",
   "metadata": {},
   "outputs": [],
   "source": [
    "graphs = torch.load(pt_files[0], weights_only=False)"
   ]
  },
  {
   "cell_type": "code",
   "execution_count": 5,
   "id": "d64a36d4",
   "metadata": {},
   "outputs": [
    {
     "data": {
      "text/plain": [
       "Data(edge_index=[2, 13715], voronoi_polygon=[1967], cell_id=[1967], center_coord=[1967, 2], cell_type=[1967], biomarker_expression=[1967], distance=[13715], edge_type=[13715], num_nodes=1967, cell_types=[21], region_id='s271_c001_v001_r001_reg001', pTR_label=1, pTR_category=2, pTR_PRIMARY='80-90%', pTR_max='80-90%', CANCER_SITE='LARYNX', cAJCC_Stage='Stage IVA', X=[1967, 2], pe=[1967, 2])"
      ]
     },
     "execution_count": 5,
     "metadata": {},
     "output_type": "execute_result"
    }
   ],
   "source": [
    "graphs[0]"
   ]
  },
  {
   "cell_type": "code",
   "execution_count": 1,
   "id": "fbe9a40d",
   "metadata": {},
   "outputs": [],
   "source": [
    "from glob import glob"
   ]
  },
  {
   "cell_type": "code",
   "execution_count": 11,
   "id": "1e256615",
   "metadata": {},
   "outputs": [
    {
     "data": {
      "text/plain": [
       "['/gpfs/gibbs/pi/krishnaswamy_smita/hm638/SCGFM/data/adata/space-gm/charville/Charville_c001_v001_r001_reg001.h5ad',\n",
       " '/gpfs/gibbs/pi/krishnaswamy_smita/hm638/SCGFM/data/adata/space-gm/charville/Charville_c001_v001_r001_reg002.h5ad',\n",
       " '/gpfs/gibbs/pi/krishnaswamy_smita/hm638/SCGFM/data/adata/space-gm/charville/Charville_c001_v001_r001_reg003.h5ad',\n",
       " '/gpfs/gibbs/pi/krishnaswamy_smita/hm638/SCGFM/data/adata/space-gm/charville/Charville_c001_v001_r001_reg004.h5ad',\n",
       " '/gpfs/gibbs/pi/krishnaswamy_smita/hm638/SCGFM/data/adata/space-gm/charville/Charville_c001_v001_r001_reg007.h5ad',\n",
       " '/gpfs/gibbs/pi/krishnaswamy_smita/hm638/SCGFM/data/adata/space-gm/charville/Charville_c001_v001_r001_reg008.h5ad',\n",
       " '/gpfs/gibbs/pi/krishnaswamy_smita/hm638/SCGFM/data/adata/space-gm/charville/Charville_c001_v001_r001_reg009.h5ad',\n",
       " '/gpfs/gibbs/pi/krishnaswamy_smita/hm638/SCGFM/data/adata/space-gm/charville/Charville_c001_v001_r001_reg010.h5ad',\n",
       " '/gpfs/gibbs/pi/krishnaswamy_smita/hm638/SCGFM/data/adata/space-gm/charville/Charville_c001_v001_r001_reg011.h5ad',\n",
       " '/gpfs/gibbs/pi/krishnaswamy_smita/hm638/SCGFM/data/adata/space-gm/charville/Charville_c001_v001_r001_reg012.h5ad',\n",
       " '/gpfs/gibbs/pi/krishnaswamy_smita/hm638/SCGFM/data/adata/space-gm/charville/Charville_c001_v001_r001_reg014.h5ad',\n",
       " '/gpfs/gibbs/pi/krishnaswamy_smita/hm638/SCGFM/data/adata/space-gm/charville/Charville_c001_v001_r001_reg015.h5ad',\n",
       " '/gpfs/gibbs/pi/krishnaswamy_smita/hm638/SCGFM/data/adata/space-gm/charville/Charville_c001_v001_r001_reg016.h5ad',\n",
       " '/gpfs/gibbs/pi/krishnaswamy_smita/hm638/SCGFM/data/adata/space-gm/charville/Charville_c001_v001_r001_reg017.h5ad',\n",
       " '/gpfs/gibbs/pi/krishnaswamy_smita/hm638/SCGFM/data/adata/space-gm/charville/Charville_c001_v001_r001_reg018.h5ad',\n",
       " '/gpfs/gibbs/pi/krishnaswamy_smita/hm638/SCGFM/data/adata/space-gm/charville/Charville_c001_v001_r001_reg019.h5ad',\n",
       " '/gpfs/gibbs/pi/krishnaswamy_smita/hm638/SCGFM/data/adata/space-gm/charville/Charville_c001_v001_r001_reg021.h5ad',\n",
       " '/gpfs/gibbs/pi/krishnaswamy_smita/hm638/SCGFM/data/adata/space-gm/charville/Charville_c001_v001_r001_reg022.h5ad',\n",
       " '/gpfs/gibbs/pi/krishnaswamy_smita/hm638/SCGFM/data/adata/space-gm/charville/Charville_c001_v001_r001_reg023.h5ad',\n",
       " '/gpfs/gibbs/pi/krishnaswamy_smita/hm638/SCGFM/data/adata/space-gm/charville/Charville_c001_v001_r001_reg024.h5ad',\n",
       " '/gpfs/gibbs/pi/krishnaswamy_smita/hm638/SCGFM/data/adata/space-gm/charville/Charville_c001_v001_r001_reg027.h5ad',\n",
       " '/gpfs/gibbs/pi/krishnaswamy_smita/hm638/SCGFM/data/adata/space-gm/charville/Charville_c001_v001_r001_reg028.h5ad',\n",
       " '/gpfs/gibbs/pi/krishnaswamy_smita/hm638/SCGFM/data/adata/space-gm/charville/Charville_c001_v001_r001_reg029.h5ad',\n",
       " '/gpfs/gibbs/pi/krishnaswamy_smita/hm638/SCGFM/data/adata/space-gm/charville/Charville_c001_v001_r001_reg030.h5ad',\n",
       " '/gpfs/gibbs/pi/krishnaswamy_smita/hm638/SCGFM/data/adata/space-gm/charville/Charville_c001_v001_r001_reg031.h5ad',\n",
       " '/gpfs/gibbs/pi/krishnaswamy_smita/hm638/SCGFM/data/adata/space-gm/charville/Charville_c001_v001_r001_reg032.h5ad',\n",
       " '/gpfs/gibbs/pi/krishnaswamy_smita/hm638/SCGFM/data/adata/space-gm/charville/Charville_c001_v001_r001_reg033.h5ad',\n",
       " '/gpfs/gibbs/pi/krishnaswamy_smita/hm638/SCGFM/data/adata/space-gm/charville/Charville_c001_v001_r001_reg034.h5ad',\n",
       " '/gpfs/gibbs/pi/krishnaswamy_smita/hm638/SCGFM/data/adata/space-gm/charville/Charville_c001_v001_r001_reg035.h5ad',\n",
       " '/gpfs/gibbs/pi/krishnaswamy_smita/hm638/SCGFM/data/adata/space-gm/charville/Charville_c001_v001_r001_reg036.h5ad',\n",
       " '/gpfs/gibbs/pi/krishnaswamy_smita/hm638/SCGFM/data/adata/space-gm/charville/Charville_c001_v001_r001_reg038.h5ad',\n",
       " '/gpfs/gibbs/pi/krishnaswamy_smita/hm638/SCGFM/data/adata/space-gm/charville/Charville_c001_v001_r001_reg039.h5ad',\n",
       " '/gpfs/gibbs/pi/krishnaswamy_smita/hm638/SCGFM/data/adata/space-gm/charville/Charville_c001_v001_r001_reg040.h5ad',\n",
       " '/gpfs/gibbs/pi/krishnaswamy_smita/hm638/SCGFM/data/adata/space-gm/charville/Charville_c001_v001_r001_reg041.h5ad',\n",
       " '/gpfs/gibbs/pi/krishnaswamy_smita/hm638/SCGFM/data/adata/space-gm/charville/Charville_c001_v001_r001_reg043.h5ad',\n",
       " '/gpfs/gibbs/pi/krishnaswamy_smita/hm638/SCGFM/data/adata/space-gm/charville/Charville_c001_v001_r001_reg044.h5ad',\n",
       " '/gpfs/gibbs/pi/krishnaswamy_smita/hm638/SCGFM/data/adata/space-gm/charville/Charville_c001_v001_r001_reg045.h5ad',\n",
       " '/gpfs/gibbs/pi/krishnaswamy_smita/hm638/SCGFM/data/adata/space-gm/charville/Charville_c001_v001_r001_reg046.h5ad',\n",
       " '/gpfs/gibbs/pi/krishnaswamy_smita/hm638/SCGFM/data/adata/space-gm/charville/Charville_c001_v001_r001_reg047.h5ad',\n",
       " '/gpfs/gibbs/pi/krishnaswamy_smita/hm638/SCGFM/data/adata/space-gm/charville/Charville_c001_v001_r001_reg048.h5ad',\n",
       " '/gpfs/gibbs/pi/krishnaswamy_smita/hm638/SCGFM/data/adata/space-gm/charville/Charville_c001_v001_r001_reg050.h5ad',\n",
       " '/gpfs/gibbs/pi/krishnaswamy_smita/hm638/SCGFM/data/adata/space-gm/charville/Charville_c001_v001_r001_reg051.h5ad',\n",
       " '/gpfs/gibbs/pi/krishnaswamy_smita/hm638/SCGFM/data/adata/space-gm/charville/Charville_c001_v001_r001_reg052.h5ad',\n",
       " '/gpfs/gibbs/pi/krishnaswamy_smita/hm638/SCGFM/data/adata/space-gm/charville/Charville_c001_v001_r001_reg053.h5ad',\n",
       " '/gpfs/gibbs/pi/krishnaswamy_smita/hm638/SCGFM/data/adata/space-gm/charville/Charville_c001_v001_r001_reg054.h5ad',\n",
       " '/gpfs/gibbs/pi/krishnaswamy_smita/hm638/SCGFM/data/adata/space-gm/charville/Charville_c001_v001_r001_reg055.h5ad',\n",
       " '/gpfs/gibbs/pi/krishnaswamy_smita/hm638/SCGFM/data/adata/space-gm/charville/Charville_c001_v001_r001_reg056.h5ad',\n",
       " '/gpfs/gibbs/pi/krishnaswamy_smita/hm638/SCGFM/data/adata/space-gm/charville/Charville_c001_v001_r001_reg057.h5ad',\n",
       " '/gpfs/gibbs/pi/krishnaswamy_smita/hm638/SCGFM/data/adata/space-gm/charville/Charville_c001_v001_r001_reg058.h5ad',\n",
       " '/gpfs/gibbs/pi/krishnaswamy_smita/hm638/SCGFM/data/adata/space-gm/charville/Charville_c001_v001_r001_reg059.h5ad',\n",
       " '/gpfs/gibbs/pi/krishnaswamy_smita/hm638/SCGFM/data/adata/space-gm/charville/Charville_c001_v001_r001_reg062.h5ad',\n",
       " '/gpfs/gibbs/pi/krishnaswamy_smita/hm638/SCGFM/data/adata/space-gm/charville/Charville_c001_v001_r001_reg063.h5ad',\n",
       " '/gpfs/gibbs/pi/krishnaswamy_smita/hm638/SCGFM/data/adata/space-gm/charville/Charville_c001_v001_r001_reg064.h5ad',\n",
       " '/gpfs/gibbs/pi/krishnaswamy_smita/hm638/SCGFM/data/adata/space-gm/charville/Charville_c001_v001_r001_reg065.h5ad',\n",
       " '/gpfs/gibbs/pi/krishnaswamy_smita/hm638/SCGFM/data/adata/space-gm/charville/Charville_c001_v001_r001_reg066.h5ad',\n",
       " '/gpfs/gibbs/pi/krishnaswamy_smita/hm638/SCGFM/data/adata/space-gm/charville/Charville_c001_v001_r001_reg067.h5ad',\n",
       " '/gpfs/gibbs/pi/krishnaswamy_smita/hm638/SCGFM/data/adata/space-gm/charville/Charville_c001_v001_r001_reg069.h5ad',\n",
       " '/gpfs/gibbs/pi/krishnaswamy_smita/hm638/SCGFM/data/adata/space-gm/charville/Charville_c001_v001_r001_reg070.h5ad',\n",
       " '/gpfs/gibbs/pi/krishnaswamy_smita/hm638/SCGFM/data/adata/space-gm/charville/Charville_c001_v001_r001_reg071.h5ad',\n",
       " '/gpfs/gibbs/pi/krishnaswamy_smita/hm638/SCGFM/data/adata/space-gm/charville/Charville_c001_v001_r001_reg072.h5ad',\n",
       " '/gpfs/gibbs/pi/krishnaswamy_smita/hm638/SCGFM/data/adata/space-gm/charville/Charville_c001_v001_r001_reg073.h5ad',\n",
       " '/gpfs/gibbs/pi/krishnaswamy_smita/hm638/SCGFM/data/adata/space-gm/charville/Charville_c001_v001_r001_reg076.h5ad',\n",
       " '/gpfs/gibbs/pi/krishnaswamy_smita/hm638/SCGFM/data/adata/space-gm/charville/Charville_c001_v001_r001_reg079.h5ad',\n",
       " '/gpfs/gibbs/pi/krishnaswamy_smita/hm638/SCGFM/data/adata/space-gm/charville/Charville_c001_v001_r001_reg080.h5ad',\n",
       " '/gpfs/gibbs/pi/krishnaswamy_smita/hm638/SCGFM/data/adata/space-gm/charville/Charville_c001_v001_r001_reg081.h5ad',\n",
       " '/gpfs/gibbs/pi/krishnaswamy_smita/hm638/SCGFM/data/adata/space-gm/charville/Charville_c001_v001_r001_reg082.h5ad',\n",
       " '/gpfs/gibbs/pi/krishnaswamy_smita/hm638/SCGFM/data/adata/space-gm/charville/Charville_c001_v001_r001_reg083.h5ad',\n",
       " '/gpfs/gibbs/pi/krishnaswamy_smita/hm638/SCGFM/data/adata/space-gm/charville/Charville_c001_v001_r001_reg084.h5ad',\n",
       " '/gpfs/gibbs/pi/krishnaswamy_smita/hm638/SCGFM/data/adata/space-gm/charville/Charville_c001_v001_r001_reg085.h5ad',\n",
       " '/gpfs/gibbs/pi/krishnaswamy_smita/hm638/SCGFM/data/adata/space-gm/charville/Charville_c001_v001_r001_reg086.h5ad',\n",
       " '/gpfs/gibbs/pi/krishnaswamy_smita/hm638/SCGFM/data/adata/space-gm/charville/Charville_c001_v001_r001_reg088.h5ad',\n",
       " '/gpfs/gibbs/pi/krishnaswamy_smita/hm638/SCGFM/data/adata/space-gm/charville/Charville_c001_v001_r001_reg090.h5ad',\n",
       " '/gpfs/gibbs/pi/krishnaswamy_smita/hm638/SCGFM/data/adata/space-gm/charville/Charville_c002_v001_r001_reg024.h5ad',\n",
       " '/gpfs/gibbs/pi/krishnaswamy_smita/hm638/SCGFM/data/adata/space-gm/charville/Charville_c002_v001_r001_reg025.h5ad',\n",
       " '/gpfs/gibbs/pi/krishnaswamy_smita/hm638/SCGFM/data/adata/space-gm/charville/Charville_c002_v001_r001_reg026.h5ad',\n",
       " '/gpfs/gibbs/pi/krishnaswamy_smita/hm638/SCGFM/data/adata/space-gm/charville/Charville_c002_v001_r001_reg048.h5ad',\n",
       " '/gpfs/gibbs/pi/krishnaswamy_smita/hm638/SCGFM/data/adata/space-gm/charville/Charville_c002_v001_r001_reg049.h5ad',\n",
       " '/gpfs/gibbs/pi/krishnaswamy_smita/hm638/SCGFM/data/adata/space-gm/charville/Charville_c002_v001_r001_reg050.h5ad',\n",
       " '/gpfs/gibbs/pi/krishnaswamy_smita/hm638/SCGFM/data/adata/space-gm/charville/Charville_c002_v001_r001_reg051.h5ad',\n",
       " '/gpfs/gibbs/pi/krishnaswamy_smita/hm638/SCGFM/data/adata/space-gm/charville/Charville_c002_v001_r001_reg052.h5ad',\n",
       " '/gpfs/gibbs/pi/krishnaswamy_smita/hm638/SCGFM/data/adata/space-gm/charville/Charville_c002_v001_r001_reg053.h5ad',\n",
       " '/gpfs/gibbs/pi/krishnaswamy_smita/hm638/SCGFM/data/adata/space-gm/charville/Charville_c002_v001_r001_reg055.h5ad',\n",
       " '/gpfs/gibbs/pi/krishnaswamy_smita/hm638/SCGFM/data/adata/space-gm/charville/Charville_c002_v001_r001_reg056.h5ad',\n",
       " '/gpfs/gibbs/pi/krishnaswamy_smita/hm638/SCGFM/data/adata/space-gm/charville/Charville_c002_v001_r001_reg057.h5ad',\n",
       " '/gpfs/gibbs/pi/krishnaswamy_smita/hm638/SCGFM/data/adata/space-gm/charville/Charville_c002_v001_r001_reg058.h5ad',\n",
       " '/gpfs/gibbs/pi/krishnaswamy_smita/hm638/SCGFM/data/adata/space-gm/charville/Charville_c002_v001_r001_reg059.h5ad',\n",
       " '/gpfs/gibbs/pi/krishnaswamy_smita/hm638/SCGFM/data/adata/space-gm/charville/Charville_c002_v001_r001_reg060.h5ad',\n",
       " '/gpfs/gibbs/pi/krishnaswamy_smita/hm638/SCGFM/data/adata/space-gm/charville/Charville_c002_v001_r001_reg061.h5ad',\n",
       " '/gpfs/gibbs/pi/krishnaswamy_smita/hm638/SCGFM/data/adata/space-gm/charville/Charville_c002_v001_r001_reg082.h5ad',\n",
       " '/gpfs/gibbs/pi/krishnaswamy_smita/hm638/SCGFM/data/adata/space-gm/charville/Charville_c002_v001_r001_reg083.h5ad',\n",
       " '/gpfs/gibbs/pi/krishnaswamy_smita/hm638/SCGFM/data/adata/space-gm/charville/Charville_c002_v001_r001_reg084.h5ad',\n",
       " '/gpfs/gibbs/pi/krishnaswamy_smita/hm638/SCGFM/data/adata/space-gm/charville/Charville_c002_v001_r001_reg085.h5ad',\n",
       " '/gpfs/gibbs/pi/krishnaswamy_smita/hm638/SCGFM/data/adata/space-gm/charville/Charville_c002_v001_r001_reg086.h5ad',\n",
       " '/gpfs/gibbs/pi/krishnaswamy_smita/hm638/SCGFM/data/adata/space-gm/charville/Charville_c002_v001_r001_reg088.h5ad',\n",
       " '/gpfs/gibbs/pi/krishnaswamy_smita/hm638/SCGFM/data/adata/space-gm/charville/Charville_c002_v001_r001_reg089.h5ad',\n",
       " '/gpfs/gibbs/pi/krishnaswamy_smita/hm638/SCGFM/data/adata/space-gm/charville/Charville_c002_v001_r001_reg091.h5ad',\n",
       " '/gpfs/gibbs/pi/krishnaswamy_smita/hm638/SCGFM/data/adata/space-gm/charville/Charville_c002_v001_r001_reg092.h5ad',\n",
       " '/gpfs/gibbs/pi/krishnaswamy_smita/hm638/SCGFM/data/adata/space-gm/charville/Charville_c002_v001_r001_reg094.h5ad',\n",
       " '/gpfs/gibbs/pi/krishnaswamy_smita/hm638/SCGFM/data/adata/space-gm/charville/Charville_c002_v001_r001_reg095.h5ad',\n",
       " '/gpfs/gibbs/pi/krishnaswamy_smita/hm638/SCGFM/data/adata/space-gm/charville/Charville_c002_v001_r001_reg115.h5ad',\n",
       " '/gpfs/gibbs/pi/krishnaswamy_smita/hm638/SCGFM/data/adata/space-gm/charville/Charville_c002_v001_r001_reg116.h5ad',\n",
       " '/gpfs/gibbs/pi/krishnaswamy_smita/hm638/SCGFM/data/adata/space-gm/charville/Charville_c002_v001_r001_reg117.h5ad',\n",
       " '/gpfs/gibbs/pi/krishnaswamy_smita/hm638/SCGFM/data/adata/space-gm/charville/Charville_c002_v001_r001_reg119.h5ad',\n",
       " '/gpfs/gibbs/pi/krishnaswamy_smita/hm638/SCGFM/data/adata/space-gm/charville/Charville_c002_v001_r001_reg120.h5ad',\n",
       " '/gpfs/gibbs/pi/krishnaswamy_smita/hm638/SCGFM/data/adata/space-gm/charville/Charville_c002_v001_r001_reg122.h5ad',\n",
       " '/gpfs/gibbs/pi/krishnaswamy_smita/hm638/SCGFM/data/adata/space-gm/charville/Charville_c002_v001_r001_reg128.h5ad',\n",
       " '/gpfs/gibbs/pi/krishnaswamy_smita/hm638/SCGFM/data/adata/space-gm/charville/Charville_c002_v001_r001_reg147.h5ad',\n",
       " '/gpfs/gibbs/pi/krishnaswamy_smita/hm638/SCGFM/data/adata/space-gm/charville/Charville_c002_v001_r001_reg148.h5ad',\n",
       " '/gpfs/gibbs/pi/krishnaswamy_smita/hm638/SCGFM/data/adata/space-gm/charville/Charville_c002_v001_r001_reg149.h5ad',\n",
       " '/gpfs/gibbs/pi/krishnaswamy_smita/hm638/SCGFM/data/adata/space-gm/charville/Charville_c002_v001_r001_reg150.h5ad',\n",
       " '/gpfs/gibbs/pi/krishnaswamy_smita/hm638/SCGFM/data/adata/space-gm/charville/Charville_c002_v001_r001_reg151.h5ad',\n",
       " '/gpfs/gibbs/pi/krishnaswamy_smita/hm638/SCGFM/data/adata/space-gm/charville/Charville_c002_v001_r001_reg155.h5ad',\n",
       " '/gpfs/gibbs/pi/krishnaswamy_smita/hm638/SCGFM/data/adata/space-gm/charville/Charville_c002_v001_r001_reg157.h5ad',\n",
       " '/gpfs/gibbs/pi/krishnaswamy_smita/hm638/SCGFM/data/adata/space-gm/charville/Charville_c002_v001_r001_reg158.h5ad',\n",
       " '/gpfs/gibbs/pi/krishnaswamy_smita/hm638/SCGFM/data/adata/space-gm/charville/Charville_c002_v001_r001_reg159.h5ad',\n",
       " '/gpfs/gibbs/pi/krishnaswamy_smita/hm638/SCGFM/data/adata/space-gm/charville/Charville_c002_v001_r001_reg160.h5ad',\n",
       " '/gpfs/gibbs/pi/krishnaswamy_smita/hm638/SCGFM/data/adata/space-gm/charville/Charville_c002_v001_r001_reg180.h5ad',\n",
       " '/gpfs/gibbs/pi/krishnaswamy_smita/hm638/SCGFM/data/adata/space-gm/charville/Charville_c002_v001_r001_reg181.h5ad',\n",
       " '/gpfs/gibbs/pi/krishnaswamy_smita/hm638/SCGFM/data/adata/space-gm/charville/Charville_c002_v001_r001_reg182.h5ad',\n",
       " '/gpfs/gibbs/pi/krishnaswamy_smita/hm638/SCGFM/data/adata/space-gm/charville/Charville_c002_v001_r001_reg183.h5ad',\n",
       " '/gpfs/gibbs/pi/krishnaswamy_smita/hm638/SCGFM/data/adata/space-gm/charville/Charville_c002_v001_r001_reg184.h5ad',\n",
       " '/gpfs/gibbs/pi/krishnaswamy_smita/hm638/SCGFM/data/adata/space-gm/charville/Charville_c002_v001_r001_reg185.h5ad',\n",
       " '/gpfs/gibbs/pi/krishnaswamy_smita/hm638/SCGFM/data/adata/space-gm/charville/Charville_c002_v001_r001_reg186.h5ad',\n",
       " '/gpfs/gibbs/pi/krishnaswamy_smita/hm638/SCGFM/data/adata/space-gm/charville/Charville_c002_v001_r001_reg187.h5ad',\n",
       " '/gpfs/gibbs/pi/krishnaswamy_smita/hm638/SCGFM/data/adata/space-gm/charville/Charville_c002_v001_r001_reg188.h5ad',\n",
       " '/gpfs/gibbs/pi/krishnaswamy_smita/hm638/SCGFM/data/adata/space-gm/charville/Charville_c002_v001_r001_reg189.h5ad',\n",
       " '/gpfs/gibbs/pi/krishnaswamy_smita/hm638/SCGFM/data/adata/space-gm/charville/Charville_c002_v001_r001_reg190.h5ad',\n",
       " '/gpfs/gibbs/pi/krishnaswamy_smita/hm638/SCGFM/data/adata/space-gm/charville/Charville_c002_v001_r001_reg191.h5ad',\n",
       " '/gpfs/gibbs/pi/krishnaswamy_smita/hm638/SCGFM/data/adata/space-gm/charville/Charville_c002_v001_r001_reg212.h5ad',\n",
       " '/gpfs/gibbs/pi/krishnaswamy_smita/hm638/SCGFM/data/adata/space-gm/charville/Charville_c002_v001_r001_reg213.h5ad',\n",
       " '/gpfs/gibbs/pi/krishnaswamy_smita/hm638/SCGFM/data/adata/space-gm/charville/Charville_c002_v001_r001_reg214.h5ad',\n",
       " '/gpfs/gibbs/pi/krishnaswamy_smita/hm638/SCGFM/data/adata/space-gm/charville/Charville_c002_v001_r001_reg215.h5ad',\n",
       " '/gpfs/gibbs/pi/krishnaswamy_smita/hm638/SCGFM/data/adata/space-gm/charville/Charville_c002_v001_r001_reg216.h5ad',\n",
       " '/gpfs/gibbs/pi/krishnaswamy_smita/hm638/SCGFM/data/adata/space-gm/charville/Charville_c003_v001_r001_reg008.h5ad',\n",
       " '/gpfs/gibbs/pi/krishnaswamy_smita/hm638/SCGFM/data/adata/space-gm/charville/Charville_c003_v001_r001_reg009.h5ad',\n",
       " '/gpfs/gibbs/pi/krishnaswamy_smita/hm638/SCGFM/data/adata/space-gm/charville/Charville_c003_v001_r001_reg010.h5ad',\n",
       " '/gpfs/gibbs/pi/krishnaswamy_smita/hm638/SCGFM/data/adata/space-gm/charville/Charville_c003_v001_r001_reg011.h5ad',\n",
       " '/gpfs/gibbs/pi/krishnaswamy_smita/hm638/SCGFM/data/adata/space-gm/charville/Charville_c003_v001_r001_reg012.h5ad',\n",
       " '/gpfs/gibbs/pi/krishnaswamy_smita/hm638/SCGFM/data/adata/space-gm/charville/Charville_c003_v001_r001_reg013.h5ad',\n",
       " '/gpfs/gibbs/pi/krishnaswamy_smita/hm638/SCGFM/data/adata/space-gm/charville/Charville_c003_v001_r001_reg014.h5ad',\n",
       " '/gpfs/gibbs/pi/krishnaswamy_smita/hm638/SCGFM/data/adata/space-gm/charville/Charville_c003_v001_r001_reg015.h5ad',\n",
       " '/gpfs/gibbs/pi/krishnaswamy_smita/hm638/SCGFM/data/adata/space-gm/charville/Charville_c003_v001_r001_reg018.h5ad',\n",
       " '/gpfs/gibbs/pi/krishnaswamy_smita/hm638/SCGFM/data/adata/space-gm/charville/Charville_c003_v001_r001_reg019.h5ad',\n",
       " '/gpfs/gibbs/pi/krishnaswamy_smita/hm638/SCGFM/data/adata/space-gm/charville/Charville_c003_v001_r001_reg020.h5ad',\n",
       " '/gpfs/gibbs/pi/krishnaswamy_smita/hm638/SCGFM/data/adata/space-gm/charville/Charville_c003_v001_r001_reg021.h5ad',\n",
       " '/gpfs/gibbs/pi/krishnaswamy_smita/hm638/SCGFM/data/adata/space-gm/charville/Charville_c003_v001_r001_reg022.h5ad',\n",
       " '/gpfs/gibbs/pi/krishnaswamy_smita/hm638/SCGFM/data/adata/space-gm/charville/Charville_c003_v001_r001_reg023.h5ad',\n",
       " '/gpfs/gibbs/pi/krishnaswamy_smita/hm638/SCGFM/data/adata/space-gm/charville/Charville_c003_v001_r001_reg024.h5ad',\n",
       " '/gpfs/gibbs/pi/krishnaswamy_smita/hm638/SCGFM/data/adata/space-gm/charville/Charville_c003_v001_r001_reg025.h5ad',\n",
       " '/gpfs/gibbs/pi/krishnaswamy_smita/hm638/SCGFM/data/adata/space-gm/charville/Charville_c003_v001_r001_reg026.h5ad',\n",
       " '/gpfs/gibbs/pi/krishnaswamy_smita/hm638/SCGFM/data/adata/space-gm/charville/Charville_c003_v001_r001_reg039.h5ad',\n",
       " '/gpfs/gibbs/pi/krishnaswamy_smita/hm638/SCGFM/data/adata/space-gm/charville/Charville_c003_v001_r001_reg040.h5ad',\n",
       " '/gpfs/gibbs/pi/krishnaswamy_smita/hm638/SCGFM/data/adata/space-gm/charville/Charville_c003_v001_r001_reg041.h5ad',\n",
       " '/gpfs/gibbs/pi/krishnaswamy_smita/hm638/SCGFM/data/adata/space-gm/charville/Charville_c003_v001_r001_reg042.h5ad',\n",
       " '/gpfs/gibbs/pi/krishnaswamy_smita/hm638/SCGFM/data/adata/space-gm/charville/Charville_c003_v001_r001_reg043.h5ad',\n",
       " '/gpfs/gibbs/pi/krishnaswamy_smita/hm638/SCGFM/data/adata/space-gm/charville/Charville_c003_v001_r001_reg044.h5ad',\n",
       " '/gpfs/gibbs/pi/krishnaswamy_smita/hm638/SCGFM/data/adata/space-gm/charville/Charville_c003_v001_r001_reg045.h5ad',\n",
       " '/gpfs/gibbs/pi/krishnaswamy_smita/hm638/SCGFM/data/adata/space-gm/charville/Charville_c003_v001_r001_reg046.h5ad',\n",
       " '/gpfs/gibbs/pi/krishnaswamy_smita/hm638/SCGFM/data/adata/space-gm/charville/Charville_c003_v001_r001_reg047.h5ad',\n",
       " '/gpfs/gibbs/pi/krishnaswamy_smita/hm638/SCGFM/data/adata/space-gm/charville/Charville_c003_v001_r001_reg048.h5ad',\n",
       " '/gpfs/gibbs/pi/krishnaswamy_smita/hm638/SCGFM/data/adata/space-gm/charville/Charville_c003_v001_r001_reg049.h5ad',\n",
       " '/gpfs/gibbs/pi/krishnaswamy_smita/hm638/SCGFM/data/adata/space-gm/charville/Charville_c003_v001_r001_reg050.h5ad',\n",
       " '/gpfs/gibbs/pi/krishnaswamy_smita/hm638/SCGFM/data/adata/space-gm/charville/Charville_c003_v001_r001_reg051.h5ad',\n",
       " '/gpfs/gibbs/pi/krishnaswamy_smita/hm638/SCGFM/data/adata/space-gm/charville/Charville_c003_v001_r001_reg052.h5ad',\n",
       " '/gpfs/gibbs/pi/krishnaswamy_smita/hm638/SCGFM/data/adata/space-gm/charville/Charville_c003_v001_r001_reg053.h5ad',\n",
       " '/gpfs/gibbs/pi/krishnaswamy_smita/hm638/SCGFM/data/adata/space-gm/charville/Charville_c003_v001_r001_reg054.h5ad',\n",
       " '/gpfs/gibbs/pi/krishnaswamy_smita/hm638/SCGFM/data/adata/space-gm/charville/Charville_c003_v001_r001_reg055.h5ad',\n",
       " '/gpfs/gibbs/pi/krishnaswamy_smita/hm638/SCGFM/data/adata/space-gm/charville/Charville_c003_v001_r001_reg056.h5ad',\n",
       " '/gpfs/gibbs/pi/krishnaswamy_smita/hm638/SCGFM/data/adata/space-gm/charville/Charville_c003_v001_r001_reg057.h5ad',\n",
       " '/gpfs/gibbs/pi/krishnaswamy_smita/hm638/SCGFM/data/adata/space-gm/charville/Charville_c003_v001_r001_reg058.h5ad',\n",
       " '/gpfs/gibbs/pi/krishnaswamy_smita/hm638/SCGFM/data/adata/space-gm/charville/Charville_c003_v001_r001_reg070.h5ad',\n",
       " '/gpfs/gibbs/pi/krishnaswamy_smita/hm638/SCGFM/data/adata/space-gm/charville/Charville_c003_v001_r001_reg071.h5ad',\n",
       " '/gpfs/gibbs/pi/krishnaswamy_smita/hm638/SCGFM/data/adata/space-gm/charville/Charville_c003_v001_r001_reg072.h5ad',\n",
       " '/gpfs/gibbs/pi/krishnaswamy_smita/hm638/SCGFM/data/adata/space-gm/charville/Charville_c003_v001_r001_reg073.h5ad',\n",
       " '/gpfs/gibbs/pi/krishnaswamy_smita/hm638/SCGFM/data/adata/space-gm/charville/Charville_c003_v001_r001_reg074.h5ad',\n",
       " '/gpfs/gibbs/pi/krishnaswamy_smita/hm638/SCGFM/data/adata/space-gm/charville/Charville_c003_v001_r001_reg075.h5ad',\n",
       " '/gpfs/gibbs/pi/krishnaswamy_smita/hm638/SCGFM/data/adata/space-gm/charville/Charville_c003_v001_r001_reg078.h5ad',\n",
       " '/gpfs/gibbs/pi/krishnaswamy_smita/hm638/SCGFM/data/adata/space-gm/charville/Charville_c003_v001_r001_reg082.h5ad',\n",
       " '/gpfs/gibbs/pi/krishnaswamy_smita/hm638/SCGFM/data/adata/space-gm/charville/Charville_c003_v001_r001_reg087.h5ad',\n",
       " '/gpfs/gibbs/pi/krishnaswamy_smita/hm638/SCGFM/data/adata/space-gm/charville/Charville_c003_v001_r001_reg101.h5ad',\n",
       " '/gpfs/gibbs/pi/krishnaswamy_smita/hm638/SCGFM/data/adata/space-gm/charville/Charville_c003_v001_r001_reg102.h5ad',\n",
       " '/gpfs/gibbs/pi/krishnaswamy_smita/hm638/SCGFM/data/adata/space-gm/charville/Charville_c003_v001_r001_reg103.h5ad',\n",
       " '/gpfs/gibbs/pi/krishnaswamy_smita/hm638/SCGFM/data/adata/space-gm/charville/Charville_c003_v001_r001_reg104.h5ad',\n",
       " '/gpfs/gibbs/pi/krishnaswamy_smita/hm638/SCGFM/data/adata/space-gm/charville/Charville_c003_v001_r001_reg105.h5ad',\n",
       " '/gpfs/gibbs/pi/krishnaswamy_smita/hm638/SCGFM/data/adata/space-gm/charville/Charville_c003_v001_r001_reg107.h5ad',\n",
       " '/gpfs/gibbs/pi/krishnaswamy_smita/hm638/SCGFM/data/adata/space-gm/charville/Charville_c003_v001_r001_reg109.h5ad',\n",
       " '/gpfs/gibbs/pi/krishnaswamy_smita/hm638/SCGFM/data/adata/space-gm/charville/Charville_c003_v001_r001_reg110.h5ad',\n",
       " '/gpfs/gibbs/pi/krishnaswamy_smita/hm638/SCGFM/data/adata/space-gm/charville/Charville_c003_v001_r001_reg111.h5ad',\n",
       " '/gpfs/gibbs/pi/krishnaswamy_smita/hm638/SCGFM/data/adata/space-gm/charville/Charville_c003_v001_r001_reg112.h5ad',\n",
       " '/gpfs/gibbs/pi/krishnaswamy_smita/hm638/SCGFM/data/adata/space-gm/charville/Charville_c003_v001_r001_reg113.h5ad',\n",
       " '/gpfs/gibbs/pi/krishnaswamy_smita/hm638/SCGFM/data/adata/space-gm/charville/Charville_c003_v001_r001_reg114.h5ad',\n",
       " '/gpfs/gibbs/pi/krishnaswamy_smita/hm638/SCGFM/data/adata/space-gm/charville/Charville_c003_v001_r001_reg115.h5ad',\n",
       " '/gpfs/gibbs/pi/krishnaswamy_smita/hm638/SCGFM/data/adata/space-gm/charville/Charville_c003_v001_r001_reg116.h5ad',\n",
       " '/gpfs/gibbs/pi/krishnaswamy_smita/hm638/SCGFM/data/adata/space-gm/charville/Charville_c003_v001_r001_reg117.h5ad',\n",
       " '/gpfs/gibbs/pi/krishnaswamy_smita/hm638/SCGFM/data/adata/space-gm/charville/Charville_c003_v001_r001_reg118.h5ad',\n",
       " '/gpfs/gibbs/pi/krishnaswamy_smita/hm638/SCGFM/data/adata/space-gm/charville/Charville_c003_v001_r001_reg119.h5ad',\n",
       " '/gpfs/gibbs/pi/krishnaswamy_smita/hm638/SCGFM/data/adata/space-gm/charville/Charville_c003_v001_r001_reg120.h5ad',\n",
       " '/gpfs/gibbs/pi/krishnaswamy_smita/hm638/SCGFM/data/adata/space-gm/charville/Charville_c003_v001_r001_reg136.h5ad',\n",
       " '/gpfs/gibbs/pi/krishnaswamy_smita/hm638/SCGFM/data/adata/space-gm/charville/Charville_c003_v001_r001_reg137.h5ad',\n",
       " '/gpfs/gibbs/pi/krishnaswamy_smita/hm638/SCGFM/data/adata/space-gm/charville/Charville_c003_v001_r001_reg138.h5ad',\n",
       " '/gpfs/gibbs/pi/krishnaswamy_smita/hm638/SCGFM/data/adata/space-gm/charville/Charville_c003_v001_r001_reg139.h5ad',\n",
       " '/gpfs/gibbs/pi/krishnaswamy_smita/hm638/SCGFM/data/adata/space-gm/charville/Charville_c003_v001_r001_reg140.h5ad',\n",
       " '/gpfs/gibbs/pi/krishnaswamy_smita/hm638/SCGFM/data/adata/space-gm/charville/Charville_c003_v001_r001_reg141.h5ad',\n",
       " '/gpfs/gibbs/pi/krishnaswamy_smita/hm638/SCGFM/data/adata/space-gm/charville/Charville_c003_v001_r001_reg142.h5ad',\n",
       " '/gpfs/gibbs/pi/krishnaswamy_smita/hm638/SCGFM/data/adata/space-gm/charville/Charville_c003_v001_r001_reg143.h5ad',\n",
       " '/gpfs/gibbs/pi/krishnaswamy_smita/hm638/SCGFM/data/adata/space-gm/charville/Charville_c003_v001_r001_reg144.h5ad',\n",
       " '/gpfs/gibbs/pi/krishnaswamy_smita/hm638/SCGFM/data/adata/space-gm/charville/Charville_c003_v001_r001_reg145.h5ad',\n",
       " '/gpfs/gibbs/pi/krishnaswamy_smita/hm638/SCGFM/data/adata/space-gm/charville/Charville_c003_v001_r001_reg146.h5ad',\n",
       " '/gpfs/gibbs/pi/krishnaswamy_smita/hm638/SCGFM/data/adata/space-gm/charville/Charville_c003_v001_r001_reg147.h5ad',\n",
       " '/gpfs/gibbs/pi/krishnaswamy_smita/hm638/SCGFM/data/adata/space-gm/charville/Charville_c003_v001_r001_reg148.h5ad',\n",
       " '/gpfs/gibbs/pi/krishnaswamy_smita/hm638/SCGFM/data/adata/space-gm/charville/Charville_c003_v001_r001_reg149.h5ad',\n",
       " '/gpfs/gibbs/pi/krishnaswamy_smita/hm638/SCGFM/data/adata/space-gm/charville/Charville_c003_v001_r001_reg150.h5ad',\n",
       " '/gpfs/gibbs/pi/krishnaswamy_smita/hm638/SCGFM/data/adata/space-gm/charville/Charville_c003_v001_r001_reg151.h5ad',\n",
       " '/gpfs/gibbs/pi/krishnaswamy_smita/hm638/SCGFM/data/adata/space-gm/charville/Charville_c003_v001_r001_reg152.h5ad',\n",
       " '/gpfs/gibbs/pi/krishnaswamy_smita/hm638/SCGFM/data/adata/space-gm/charville/Charville_c003_v001_r001_reg168.h5ad',\n",
       " '/gpfs/gibbs/pi/krishnaswamy_smita/hm638/SCGFM/data/adata/space-gm/charville/Charville_c003_v001_r001_reg169.h5ad',\n",
       " '/gpfs/gibbs/pi/krishnaswamy_smita/hm638/SCGFM/data/adata/space-gm/charville/Charville_c003_v001_r001_reg170.h5ad',\n",
       " '/gpfs/gibbs/pi/krishnaswamy_smita/hm638/SCGFM/data/adata/space-gm/charville/Charville_c003_v001_r001_reg172.h5ad',\n",
       " '/gpfs/gibbs/pi/krishnaswamy_smita/hm638/SCGFM/data/adata/space-gm/charville/Charville_c003_v001_r001_reg173.h5ad',\n",
       " '/gpfs/gibbs/pi/krishnaswamy_smita/hm638/SCGFM/data/adata/space-gm/charville/Charville_c003_v001_r001_reg174.h5ad',\n",
       " '/gpfs/gibbs/pi/krishnaswamy_smita/hm638/SCGFM/data/adata/space-gm/charville/Charville_c003_v001_r001_reg175.h5ad',\n",
       " '/gpfs/gibbs/pi/krishnaswamy_smita/hm638/SCGFM/data/adata/space-gm/charville/Charville_c003_v001_r001_reg176.h5ad',\n",
       " '/gpfs/gibbs/pi/krishnaswamy_smita/hm638/SCGFM/data/adata/space-gm/charville/Charville_c003_v001_r001_reg177.h5ad',\n",
       " '/gpfs/gibbs/pi/krishnaswamy_smita/hm638/SCGFM/data/adata/space-gm/charville/Charville_c003_v001_r001_reg179.h5ad',\n",
       " '/gpfs/gibbs/pi/krishnaswamy_smita/hm638/SCGFM/data/adata/space-gm/charville/Charville_c003_v001_r001_reg180.h5ad',\n",
       " '/gpfs/gibbs/pi/krishnaswamy_smita/hm638/SCGFM/data/adata/space-gm/charville/Charville_c003_v001_r001_reg181.h5ad',\n",
       " '/gpfs/gibbs/pi/krishnaswamy_smita/hm638/SCGFM/data/adata/space-gm/charville/Charville_c003_v001_r001_reg184.h5ad',\n",
       " '/gpfs/gibbs/pi/krishnaswamy_smita/hm638/SCGFM/data/adata/space-gm/charville/Charville_c003_v001_r001_reg185.h5ad',\n",
       " '/gpfs/gibbs/pi/krishnaswamy_smita/hm638/SCGFM/data/adata/space-gm/charville/Charville_c003_v001_r001_reg186.h5ad',\n",
       " '/gpfs/gibbs/pi/krishnaswamy_smita/hm638/SCGFM/data/adata/space-gm/charville/Charville_c004_v001_r001_reg001.h5ad',\n",
       " '/gpfs/gibbs/pi/krishnaswamy_smita/hm638/SCGFM/data/adata/space-gm/charville/Charville_c004_v001_r001_reg002.h5ad',\n",
       " '/gpfs/gibbs/pi/krishnaswamy_smita/hm638/SCGFM/data/adata/space-gm/charville/Charville_c004_v001_r001_reg003.h5ad',\n",
       " '/gpfs/gibbs/pi/krishnaswamy_smita/hm638/SCGFM/data/adata/space-gm/charville/Charville_c004_v001_r001_reg004.h5ad',\n",
       " '/gpfs/gibbs/pi/krishnaswamy_smita/hm638/SCGFM/data/adata/space-gm/charville/Charville_c004_v001_r001_reg005.h5ad',\n",
       " '/gpfs/gibbs/pi/krishnaswamy_smita/hm638/SCGFM/data/adata/space-gm/charville/Charville_c004_v001_r001_reg006.h5ad',\n",
       " '/gpfs/gibbs/pi/krishnaswamy_smita/hm638/SCGFM/data/adata/space-gm/charville/Charville_c004_v001_r001_reg010.h5ad',\n",
       " '/gpfs/gibbs/pi/krishnaswamy_smita/hm638/SCGFM/data/adata/space-gm/charville/Charville_c004_v001_r001_reg012.h5ad',\n",
       " '/gpfs/gibbs/pi/krishnaswamy_smita/hm638/SCGFM/data/adata/space-gm/charville/Charville_c004_v001_r001_reg026.h5ad',\n",
       " '/gpfs/gibbs/pi/krishnaswamy_smita/hm638/SCGFM/data/adata/space-gm/charville/Charville_c004_v001_r001_reg027.h5ad',\n",
       " '/gpfs/gibbs/pi/krishnaswamy_smita/hm638/SCGFM/data/adata/space-gm/charville/Charville_c004_v001_r001_reg029.h5ad',\n",
       " '/gpfs/gibbs/pi/krishnaswamy_smita/hm638/SCGFM/data/adata/space-gm/charville/Charville_c004_v001_r001_reg030.h5ad',\n",
       " '/gpfs/gibbs/pi/krishnaswamy_smita/hm638/SCGFM/data/adata/space-gm/charville/Charville_c004_v001_r001_reg033.h5ad',\n",
       " '/gpfs/gibbs/pi/krishnaswamy_smita/hm638/SCGFM/data/adata/space-gm/charville/Charville_c004_v001_r001_reg034.h5ad',\n",
       " '/gpfs/gibbs/pi/krishnaswamy_smita/hm638/SCGFM/data/adata/space-gm/charville/Charville_c004_v001_r001_reg035.h5ad',\n",
       " '/gpfs/gibbs/pi/krishnaswamy_smita/hm638/SCGFM/data/adata/space-gm/charville/Charville_c004_v001_r001_reg036.h5ad',\n",
       " '/gpfs/gibbs/pi/krishnaswamy_smita/hm638/SCGFM/data/adata/space-gm/charville/Charville_c004_v001_r001_reg037.h5ad',\n",
       " '/gpfs/gibbs/pi/krishnaswamy_smita/hm638/SCGFM/data/adata/space-gm/charville/Charville_c004_v001_r001_reg060.h5ad',\n",
       " '/gpfs/gibbs/pi/krishnaswamy_smita/hm638/SCGFM/data/adata/space-gm/charville/Charville_c004_v001_r001_reg068.h5ad',\n",
       " '/gpfs/gibbs/pi/krishnaswamy_smita/hm638/SCGFM/data/adata/space-gm/charville/Charville_c004_v001_r001_reg070.h5ad',\n",
       " '/gpfs/gibbs/pi/krishnaswamy_smita/hm638/SCGFM/data/adata/space-gm/charville/Charville_c004_v001_r001_reg079.h5ad',\n",
       " '/gpfs/gibbs/pi/krishnaswamy_smita/hm638/SCGFM/data/adata/space-gm/charville/Charville_c004_v001_r001_reg092.h5ad',\n",
       " '/gpfs/gibbs/pi/krishnaswamy_smita/hm638/SCGFM/data/adata/space-gm/charville/Charville_c004_v001_r001_reg104.h5ad',\n",
       " '/gpfs/gibbs/pi/krishnaswamy_smita/hm638/SCGFM/data/adata/space-gm/charville/Charville_c004_v001_r001_reg106.h5ad',\n",
       " '/gpfs/gibbs/pi/krishnaswamy_smita/hm638/SCGFM/data/adata/space-gm/charville/Charville_c004_v001_r001_reg107.h5ad',\n",
       " '/gpfs/gibbs/pi/krishnaswamy_smita/hm638/SCGFM/data/adata/space-gm/charville/Charville_c004_v001_r001_reg108.h5ad',\n",
       " '/gpfs/gibbs/pi/krishnaswamy_smita/hm638/SCGFM/data/adata/space-gm/charville/Charville_c004_v001_r001_reg109.h5ad',\n",
       " '/gpfs/gibbs/pi/krishnaswamy_smita/hm638/SCGFM/data/adata/space-gm/charville/Charville_c004_v001_r001_reg110.h5ad',\n",
       " '/gpfs/gibbs/pi/krishnaswamy_smita/hm638/SCGFM/data/adata/space-gm/charville/Charville_c004_v001_r001_reg111.h5ad',\n",
       " '/gpfs/gibbs/pi/krishnaswamy_smita/hm638/SCGFM/data/adata/space-gm/charville/Charville_c004_v001_r001_reg112.h5ad',\n",
       " '/gpfs/gibbs/pi/krishnaswamy_smita/hm638/SCGFM/data/adata/space-gm/charville/Charville_c004_v001_r001_reg113.h5ad',\n",
       " '/gpfs/gibbs/pi/krishnaswamy_smita/hm638/SCGFM/data/adata/space-gm/charville/Charville_c004_v001_r001_reg114.h5ad',\n",
       " '/gpfs/gibbs/pi/krishnaswamy_smita/hm638/SCGFM/data/adata/space-gm/charville/Charville_c004_v001_r001_reg115.h5ad',\n",
       " '/gpfs/gibbs/pi/krishnaswamy_smita/hm638/SCGFM/data/adata/space-gm/charville/Charville_c004_v001_r001_reg116.h5ad',\n",
       " '/gpfs/gibbs/pi/krishnaswamy_smita/hm638/SCGFM/data/adata/space-gm/charville/Charville_c004_v001_r001_reg117.h5ad',\n",
       " '/gpfs/gibbs/pi/krishnaswamy_smita/hm638/SCGFM/data/adata/space-gm/charville/Charville_c004_v001_r001_reg118.h5ad',\n",
       " '/gpfs/gibbs/pi/krishnaswamy_smita/hm638/SCGFM/data/adata/space-gm/charville/Charville_c004_v001_r001_reg119.h5ad',\n",
       " '/gpfs/gibbs/pi/krishnaswamy_smita/hm638/SCGFM/data/adata/space-gm/charville/Charville_c004_v001_r001_reg121.h5ad',\n",
       " '/gpfs/gibbs/pi/krishnaswamy_smita/hm638/SCGFM/data/adata/space-gm/charville/Charville_c004_v001_r001_reg122.h5ad',\n",
       " '/gpfs/gibbs/pi/krishnaswamy_smita/hm638/SCGFM/data/adata/space-gm/charville/Charville_c004_v001_r001_reg134.h5ad',\n",
       " '/gpfs/gibbs/pi/krishnaswamy_smita/hm638/SCGFM/data/adata/space-gm/charville/Charville_c004_v001_r001_reg135.h5ad',\n",
       " '/gpfs/gibbs/pi/krishnaswamy_smita/hm638/SCGFM/data/adata/space-gm/charville/Charville_c004_v001_r001_reg137.h5ad',\n",
       " '/gpfs/gibbs/pi/krishnaswamy_smita/hm638/SCGFM/data/adata/space-gm/charville/Charville_c004_v001_r001_reg138.h5ad',\n",
       " '/gpfs/gibbs/pi/krishnaswamy_smita/hm638/SCGFM/data/adata/space-gm/charville/Charville_c004_v001_r001_reg139.h5ad',\n",
       " '/gpfs/gibbs/pi/krishnaswamy_smita/hm638/SCGFM/data/adata/space-gm/charville/Charville_c004_v001_r001_reg140.h5ad',\n",
       " '/gpfs/gibbs/pi/krishnaswamy_smita/hm638/SCGFM/data/adata/space-gm/charville/Charville_c004_v001_r001_reg141.h5ad',\n",
       " '/gpfs/gibbs/pi/krishnaswamy_smita/hm638/SCGFM/data/adata/space-gm/charville/Charville_c004_v001_r001_reg142.h5ad',\n",
       " '/gpfs/gibbs/pi/krishnaswamy_smita/hm638/SCGFM/data/adata/space-gm/charville/Charville_c004_v001_r001_reg143.h5ad',\n",
       " '/gpfs/gibbs/pi/krishnaswamy_smita/hm638/SCGFM/data/adata/space-gm/charville/Charville_c004_v001_r001_reg144.h5ad',\n",
       " '/gpfs/gibbs/pi/krishnaswamy_smita/hm638/SCGFM/data/adata/space-gm/charville/Charville_c004_v001_r001_reg146.h5ad',\n",
       " '/gpfs/gibbs/pi/krishnaswamy_smita/hm638/SCGFM/data/adata/space-gm/charville/Charville_c004_v001_r001_reg147.h5ad',\n",
       " '/gpfs/gibbs/pi/krishnaswamy_smita/hm638/SCGFM/data/adata/space-gm/charville/Charville_c004_v001_r001_reg148.h5ad',\n",
       " '/gpfs/gibbs/pi/krishnaswamy_smita/hm638/SCGFM/data/adata/space-gm/charville/Charville_c004_v001_r001_reg150.h5ad',\n",
       " '/gpfs/gibbs/pi/krishnaswamy_smita/hm638/SCGFM/data/adata/space-gm/charville/Charville_c004_v001_r001_reg151.h5ad',\n",
       " '/gpfs/gibbs/pi/krishnaswamy_smita/hm638/SCGFM/data/adata/space-gm/charville/Charville_c004_v001_r001_reg152.h5ad',\n",
       " '/gpfs/gibbs/pi/krishnaswamy_smita/hm638/SCGFM/data/adata/space-gm/charville/Charville_c004_v001_r001_reg164.h5ad',\n",
       " '/gpfs/gibbs/pi/krishnaswamy_smita/hm638/SCGFM/data/adata/space-gm/charville/Charville_c004_v001_r001_reg173.h5ad',\n",
       " '/gpfs/gibbs/pi/krishnaswamy_smita/hm638/SCGFM/data/adata/space-gm/charville/Charville_c004_v001_r001_reg174.h5ad',\n",
       " '/gpfs/gibbs/pi/krishnaswamy_smita/hm638/SCGFM/data/adata/space-gm/charville/Charville_c004_v001_r001_reg175.h5ad',\n",
       " '/gpfs/gibbs/pi/krishnaswamy_smita/hm638/SCGFM/data/adata/space-gm/charville/Charville_c004_v001_r001_reg176.h5ad',\n",
       " '/gpfs/gibbs/pi/krishnaswamy_smita/hm638/SCGFM/data/adata/space-gm/charville/Charville_c004_v001_r001_reg177.h5ad',\n",
       " '/gpfs/gibbs/pi/krishnaswamy_smita/hm638/SCGFM/data/adata/space-gm/charville/Charville_c004_v001_r001_reg178.h5ad',\n",
       " '/gpfs/gibbs/pi/krishnaswamy_smita/hm638/SCGFM/data/adata/space-gm/charville/Charville_c004_v001_r001_reg179.h5ad']"
      ]
     },
     "execution_count": 11,
     "metadata": {},
     "output_type": "execute_result"
    }
   ],
   "source": [
    "glob(\"/gpfs/gibbs/pi/krishnaswamy_smita/hm638/SCGFM/data/adata/space-gm/charville/*\")"
   ]
  },
  {
   "cell_type": "code",
   "execution_count": 5,
   "id": "56eb1230",
   "metadata": {},
   "outputs": [],
   "source": [
    "import anndata"
   ]
  },
  {
   "cell_type": "code",
   "execution_count": 15,
   "id": "1d73b018",
   "metadata": {},
   "outputs": [],
   "source": [
    "adata= anndata.read_h5ad( '/gpfs/gibbs/pi/krishnaswamy_smita/hm638/SCGFM/data/adata/space-gm/charville/Charville_c001_v001_r001_reg017.h5ad',\n",
    ")"
   ]
  },
  {
   "cell_type": "code",
   "execution_count": 16,
   "id": "f730f5fe",
   "metadata": {},
   "outputs": [
    {
     "data": {
      "text/plain": [
       "{'primary_outcome': np.float64(0.0), 'recurrence': np.float64(0.0)}"
      ]
     },
     "execution_count": 16,
     "metadata": {},
     "output_type": "execute_result"
    }
   ],
   "source": [
    "adata.uns"
   ]
  },
  {
   "cell_type": "code",
   "execution_count": 2,
   "id": "781b05f3",
   "metadata": {},
   "outputs": [],
   "source": [
    "from glob import glob"
   ]
  },
  {
   "cell_type": "code",
   "execution_count": 3,
   "id": "5ecb002b",
   "metadata": {},
   "outputs": [
    {
     "data": {
      "text/plain": [
       "['/gpfs/gibbs/pi/krishnaswamy_smita/hm638/SCGFM/data/adata/melanoma',\n",
       " '/gpfs/gibbs/pi/krishnaswamy_smita/hm638/SCGFM/data/adata/sea',\n",
       " '/gpfs/gibbs/pi/krishnaswamy_smita/hm638/SCGFM/data/adata/space-gm']"
      ]
     },
     "execution_count": 3,
     "metadata": {},
     "output_type": "execute_result"
    }
   ],
   "source": [
    "glob(\"/gpfs/gibbs/pi/krishnaswamy_smita/hm638/SCGFM/data/adata/*\")"
   ]
  },
  {
   "cell_type": "code",
   "execution_count": 1,
   "id": "dd6f3d0d",
   "metadata": {},
   "outputs": [],
   "source": [
    "\n",
    "import torch\n",
    "from sklearn.model_selection import train_test_split\n",
    "from glob import glob\n",
    "from utils.dataloader import create_dataloader_ddp\n",
    "import numpy as np\n",
    "from tqdm import tqdm"
   ]
  },
  {
   "cell_type": "code",
   "execution_count": 2,
   "id": "774c6ade",
   "metadata": {},
   "outputs": [],
   "source": [
    "all_files = sorted(glob(\"data/pretraining/*/*\"))"
   ]
  },
  {
   "cell_type": "code",
   "execution_count": 3,
   "id": "a08e30b9",
   "metadata": {},
   "outputs": [],
   "source": [
    "train_idx, val_idx = train_test_split(np.arange(len(all_files)), test_size=0.2, random_state = 42)\n",
    "train_idx_for_rank = train_idx[3::4]"
   ]
  },
  {
   "cell_type": "code",
   "execution_count": 5,
   "id": "3bc2243a",
   "metadata": {},
   "outputs": [
    {
     "name": "stderr",
     "output_type": "stream",
     "text": [
      "258it [00:41,  5.84it/s]"
     ]
    },
    {
     "name": "stdout",
     "output_type": "stream",
     "text": [
      "size 256 data/pretraining/10x_preprocessed/Xenium_V1_FFPE_Human_Breast_ILC_With_Addon_outs_33.pt 94\n"
     ]
    },
    {
     "name": "stderr",
     "output_type": "stream",
     "text": [
      "388it [01:02,  7.26it/s]"
     ]
    },
    {
     "name": "stdout",
     "output_type": "stream",
     "text": [
      "size 386 data/pretraining/10x_preprocessed/Xenium_V1_Human_Ovarian_Cancer_Addon_FFPE_outs_22.pt 270\n"
     ]
    },
    {
     "name": "stderr",
     "output_type": "stream",
     "text": [
      "399it [01:04, 10.27it/s]"
     ]
    },
    {
     "name": "stdout",
     "output_type": "stream",
     "text": [
      "size 397 data/pretraining/10x_preprocessed/Xenium_V1_hBoneMarrow_acute_lymphoid_leukemia_section_outs_121.pt 251\n"
     ]
    },
    {
     "name": "stderr",
     "output_type": "stream",
     "text": [
      "406it [01:04, 13.85it/s]"
     ]
    },
    {
     "name": "stdout",
     "output_type": "stream",
     "text": [
      "size 402 data/pretraining/10x_preprocessed/Xenium_V1_hBoneMarrow_acute_lymphoid_leukemia_section_outs_133.pt 267\n"
     ]
    },
    {
     "name": "stderr",
     "output_type": "stream",
     "text": [
      "421it [01:05, 13.87it/s]"
     ]
    },
    {
     "name": "stdout",
     "output_type": "stream",
     "text": [
      "size 419 data/pretraining/10x_preprocessed/Xenium_V1_hBoneMarrow_acute_lymphoid_leukemia_section_outs_313.pt 261\n"
     ]
    },
    {
     "name": "stderr",
     "output_type": "stream",
     "text": [
      "585it [01:36,  7.98it/s]"
     ]
    },
    {
     "name": "stdout",
     "output_type": "stream",
     "text": [
      "size 583 data/pretraining/10x_preprocessed/Xenium_V1_hPancreas_Cancer_Add_on_FFPE_outs_24.pt 344\n"
     ]
    },
    {
     "name": "stderr",
     "output_type": "stream",
     "text": [
      "599it [01:38,  7.96it/s]"
     ]
    },
    {
     "name": "stdout",
     "output_type": "stream",
     "text": [
      "size 596 data/pretraining/10x_preprocessed/Xenium_V1_hTonsil_follicular_lymphoid_hyperplasia_section_FFPE_outs_114.pt 369\n"
     ]
    },
    {
     "name": "stderr",
     "output_type": "stream",
     "text": [
      "802it [02:08,  3.80it/s]"
     ]
    },
    {
     "name": "stdout",
     "output_type": "stream",
     "text": [
      "size 800 data/pretraining/vizgen_preprocessed/HumanColonCancerPatient2_111.pt 161\n"
     ]
    },
    {
     "name": "stderr",
     "output_type": "stream",
     "text": [
      "933it [02:34,  9.10it/s]"
     ]
    },
    {
     "name": "stdout",
     "output_type": "stream",
     "text": [
      "size 930 data/pretraining/vizgen_preprocessed/HumanLungCancerPatient2_221.pt 359\n"
     ]
    },
    {
     "name": "stderr",
     "output_type": "stream",
     "text": [
      "953it [02:36, 12.93it/s]"
     ]
    },
    {
     "name": "stdout",
     "output_type": "stream",
     "text": [
      "size 951 data/pretraining/vizgen_preprocessed/HumanLungCancerPatient2_333.pt 390\n"
     ]
    },
    {
     "name": "stderr",
     "output_type": "stream",
     "text": [
      "1011it [02:47,  5.50it/s]"
     ]
    },
    {
     "name": "stdout",
     "output_type": "stream",
     "text": [
      "size 1011 data/pretraining/vizgen_preprocessed/HumanOvarianCancerPatient1_24.pt 269\n"
     ]
    },
    {
     "name": "stderr",
     "output_type": "stream",
     "text": [
      "1055it [02:54,  8.25it/s]"
     ]
    },
    {
     "name": "stdout",
     "output_type": "stream",
     "text": [
      "size 1053 data/pretraining/vizgen_preprocessed/HumanOvarianCancerPatient2Slice3_42.pt 304\n"
     ]
    },
    {
     "name": "stderr",
     "output_type": "stream",
     "text": [
      "1097it [02:59,  9.12it/s]"
     ]
    },
    {
     "name": "stdout",
     "output_type": "stream",
     "text": [
      "size 1097 data/pretraining/vizgen_preprocessed/HumanProstateCancerPatient1_333.pt 329\n"
     ]
    },
    {
     "name": "stderr",
     "output_type": "stream",
     "text": [
      "1271it [03:24,  6.21it/s]\n"
     ]
    }
   ],
   "source": [
    "for i, v in tqdm(enumerate(all_files)):\n",
    "    data = torch.load(v,  weights_only=False)\n",
    "    if(torch.isnan(data[0].X).any()):\n",
    "        print(\"nan\", i, v, data[0].num_nodes)\n",
    "    if(data[0].num_nodes<500):\n",
    "        print(\"size\", i, v, data[0].num_nodes)"
   ]
  }
 ],
 "metadata": {
  "kernelspec": {
   "display_name": "SCGFM",
   "language": "python",
   "name": "python3"
  },
  "language_info": {
   "codemirror_mode": {
    "name": "ipython",
    "version": 3
   },
   "file_extension": ".py",
   "mimetype": "text/x-python",
   "name": "python",
   "nbconvert_exporter": "python",
   "pygments_lexer": "ipython3",
   "version": "3.12.3"
  }
 },
 "nbformat": 4,
 "nbformat_minor": 5
}
