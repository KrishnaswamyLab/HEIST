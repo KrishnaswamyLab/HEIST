{
 "cells": [
  {
   "cell_type": "code",
   "execution_count": null,
   "id": "036adf6d",
   "metadata": {},
   "outputs": [],
   "source": [
    "import torch\n",
    "import anndata\n",
    "import numpy as np\n",
    "import pandas as pd\n",
    "from tqdm import tqdm\n",
    "from glob import glob\n",
    "pt_files = sorted(glob(\"/gpfs/gibbs/pi/krishnaswamy_smita/hm638/SCGFM/data/merfish_brain_preprocessed/*\"))\n",
    "for i, file in tqdm(enumerate(pt_files)):\n",
    "    slide_name = file.split(\"/\")[-1][:-3]\n",
    "    graphs = torch.load(file, weights_only=False)\n",
    "    X = []\n",
    "    for k in range(1, len(graphs)):\n",
    "        X.append(graphs[k].X.squeeze(1).tolist())\n",
    "    pos = graphs[0].X.float().numpy()\n",
    "    X = np.array(X)\n",
    "    adata = anndata.AnnData(X)\n",
    "    adata.obsm['spatial'] = pos\n",
    "    adata.obs['cell_type'] = graphs[0].cell_type\n",
    "    adata.write(\"/gpfs/gibbs/pi/krishnaswamy_smita/hm638/SCGFM/data/adata/merfish-brain/\"+slide_name+\".h5ad\")"
   ]
  },
  {
   "cell_type": "code",
   "execution_count": 4,
   "id": "2c9ddbef",
   "metadata": {},
   "outputs": [],
   "source": [
    "graphs = torch.load(pt_files[0], weights_only=False)"
   ]
  },
  {
   "cell_type": "code",
   "execution_count": null,
   "id": "d64a36d4",
   "metadata": {},
   "outputs": [],
   "source": [
    "graphs[0]"
   ]
  },
  {
   "cell_type": "code",
   "execution_count": 1,
   "id": "fbe9a40d",
   "metadata": {},
   "outputs": [],
   "source": [
    "from glob import glob"
   ]
  },
  {
   "cell_type": "code",
   "execution_count": null,
   "id": "1e256615",
   "metadata": {},
   "outputs": [],
   "source": [
    "glob(\"/gpfs/gibbs/pi/krishnaswamy_smita/hm638/SCGFM/data/adata/space-gm/charville/*\")"
   ]
  },
  {
   "cell_type": "code",
   "execution_count": 5,
   "id": "56eb1230",
   "metadata": {},
   "outputs": [],
   "source": [
    "import anndata"
   ]
  },
  {
   "cell_type": "code",
   "execution_count": 15,
   "id": "1d73b018",
   "metadata": {},
   "outputs": [],
   "source": [
    "adata= anndata.read_h5ad( '/gpfs/gibbs/pi/krishnaswamy_smita/hm638/SCGFM/data/adata/space-gm/charville/Charville_c001_v001_r001_reg017.h5ad',\n",
    ")"
   ]
  },
  {
   "cell_type": "code",
   "execution_count": null,
   "id": "f730f5fe",
   "metadata": {},
   "outputs": [],
   "source": [
    "adata.uns"
   ]
  },
  {
   "cell_type": "code",
   "execution_count": 2,
   "id": "781b05f3",
   "metadata": {},
   "outputs": [],
   "source": [
    "from glob import glob"
   ]
  },
  {
   "cell_type": "code",
   "execution_count": null,
   "id": "5ecb002b",
   "metadata": {},
   "outputs": [],
   "source": [
    "glob(\"/gpfs/gibbs/pi/krishnaswamy_smita/hm638/SCGFM/data/adata/*\")"
   ]
  },
  {
   "cell_type": "code",
   "execution_count": 23,
   "id": "32221a00",
   "metadata": {},
   "outputs": [],
   "source": [
    "import torch\n",
    "\n",
    "def calculate_sinusoidal_pe(high_level_graph, low_level_graphs, pe_dim):\n",
    "    # Step 1: Calculate cell positional encodings (Dist_i)\n",
    "    num_nodes = high_level_graph.num_nodes\n",
    "    cell_locations = high_level_graph.X  # Shape: [num_cells, 2]\n",
    "    anchor_nodes = torch.randint(0, num_nodes, (pe_dim,))\n",
    "    \n",
    "    # Compute distance vectors (Dist_i) between each cell and the anchors\n",
    "    # dist_matrix = torch.cdist(cell_locations, cell_locations[anchor_nodes])  # Shape: [num_cells, num_cells]\n",
    "    x, y = cell_locations[:, 0], cell_locations[:, 1]  # Extract x and y coordinates\n",
    "    half_dim = pe_dim // 2  # Half for x, half for y\n",
    "    i = torch.arange(half_dim // 2, device=cell_locations.device)  # i indices\n",
    "    j = torch.arange(half_dim // 2, device=cell_locations.device)  # j indices\n",
    "\n",
    "    # Compute denominator 10000^(4i/d) and 10000^(4j/d)\n",
    "    div_term_x = 10000 ** (4 * i / half_dim)\n",
    "    div_term_y = 10000 ** (4 * j / half_dim)\n",
    "\n",
    "    # Compute positional encodings\n",
    "    pe_x = torch.zeros((cell_locations.shape[0], half_dim), device=cell_locations.device)\n",
    "    pe_y = torch.zeros((cell_locations.shape[0], half_dim), device=cell_locations.device)\n",
    "\n",
    "    pe_x[:, 0::2] = torch.sin(x[:, None] / div_term_x)  # sin terms for x\n",
    "    pe_x[:, 1::2] = torch.cos(x[:, None] / div_term_x)  # cos terms for x\n",
    "\n",
    "    pe_y[:, 0::2] = torch.sin(y[:, None] / div_term_y)  # sin terms for y\n",
    "    pe_y[:, 1::2] = torch.cos(y[:, None] / div_term_y)  # cos terms for y\n",
    "\n",
    "    # Concatenate positional encodings for x and y\n",
    "    pe = torch.cat([pe_x, pe_y], dim=-1)\n",
    "\n",
    "    # Use the distance matrix as positional encoding for the high-level graph\n",
    "    high_level_graph.pe = pe\n",
    "\n",
    "    # Step 2: Calculate gene positional encodings (RankNorm * Dist_i)\n",
    "    gene_expressions = low_level_graphs.X.squeeze(-1)  # Shape: [num_genes]\n",
    "    gene_batches = low_level_graphs.batch  # Shape: [num_genes]\n",
    "\n",
    "    # Filter by batch and calculate RankNorm for each gene batch\n",
    "    rank_norm = torch.zeros_like(gene_expressions).to(high_level_graph.X.device).float()\n",
    "    unique_batches = gene_batches.unique()\n",
    "    for b in unique_batches:\n",
    "        batch_mask = (gene_batches == b)\n",
    "        batch_gene_expressions = gene_expressions[batch_mask]\n",
    "        batch_ranks = torch.argsort(-batch_gene_expressions, dim=0)  # Descending order\n",
    "        batch_rank_norm = torch.linspace(0, 1, steps=batch_ranks.size(0), device=batch_gene_expressions.device)\n",
    "        rank_norm[torch.where(batch_mask)[0]] = batch_rank_norm[torch.argsort(batch_ranks)]\n",
    "\n",
    "    div_term = 10000 * (2 * torch.arange(0, pe_dim, 2, device=rank_norm.device).float() /half_dim)\n",
    "    print(div_term)\n",
    "    gene_sinusoidal_pe = torch.zeros(rank_norm.size(0), pe_dim, device=rank_norm.device)\n",
    "    gene_sinusoidal_pe[:, 0::2] = torch.sin(rank_norm.unsqueeze(-1) * div_term)\n",
    "    gene_sinusoidal_pe[:, 1::2] = torch.cos(rank_norm.unsqueeze(-1) * div_term)\n",
    "    # Set low-level graph PE\n",
    "    low_level_graphs.pe = gene_sinusoidal_pe.to(high_level_graph.X.device)\n",
    "\n",
    "    return high_level_graph, low_level_graphs\n"
   ]
  },
  {
   "cell_type": "code",
   "execution_count": 3,
   "id": "dd6f3d0d",
   "metadata": {},
   "outputs": [],
   "source": [
    "\n",
    "import torch\n",
    "from sklearn.model_selection import train_test_split\n",
    "from glob import glob\n",
    "from utils.dataloader import create_dataloader_ddp\n",
    "import numpy as np\n",
    "from tqdm import tqdm\n",
    "from torch_scatter import scatter\n",
    "from torch_scatter import scatter_add\n",
    "\n",
    "from torch_geometric.nn.pool import global_mean_pool\n",
    "\n",
    "import torch_geometric as tg\n",
    "import networkx as nx"
   ]
  },
  {
   "cell_type": "code",
   "execution_count": 4,
   "id": "a25d552a",
   "metadata": {},
   "outputs": [
    {
     "name": "stderr",
     "output_type": "stream",
     "text": [
      "/tmp/ipykernel_2537847/1676061166.py:4: FutureWarning: You are using `torch.load` with `weights_only=False` (the current default value), which uses the default pickle module implicitly. It is possible to construct malicious pickle data which will execute arbitrary code during unpickling (See https://github.com/pytorch/pytorch/blob/main/SECURITY.md#untrusted-models for more details). In a future release, the default value for `weights_only` will be flipped to `True`. This limits the functions that could be executed during unpickling. Arbitrary objects will no longer be allowed to be loaded via this mode unless they are explicitly allowlisted by the user via `torch.serialization.add_safe_globals`. We recommend you start setting `weights_only=True` for any use case where you don't have full control of the loaded file. Please open an issue on GitHub for any issues related to this experimental feature.\n",
      "  data = torch.load(\"/gpfs/gibbs/project/ying_rex/hm638/SCGFM/data/pretraining/vizgen_preprocessed/HumanBreastCancerPatient1_113.pt\")\n"
     ]
    }
   ],
   "source": [
    "import torch\n",
    "import torch_geometric.utils as pyg_utils\n",
    "from matplotlib import pyplot as plt\n",
    "data = torch.load(\"/gpfs/gibbs/project/ying_rex/hm638/SCGFM/data/pretraining/vizgen_preprocessed/HumanBreastCancerPatient1_113.pt\")\n",
    "dataloader = create_dataloader_ddp(data, 10, 0, 1)\n",
    "for high_level_subgraph, low_level_batch, batch_idx in (dataloader):\n",
    "    pass"
   ]
  },
  {
   "cell_type": "code",
   "execution_count": 24,
   "id": "7a72974d",
   "metadata": {},
   "outputs": [
    {
     "name": "stdout",
     "output_type": "stream",
     "text": [
      "tensor([    0.,  1250.,  2500.,  3750.,  5000.,  6250.,  7500.,  8750., 10000.,\n",
      "        11250., 12500., 13750., 15000., 16250., 17500., 18750., 20000., 21250.,\n",
      "        22500., 23750., 25000., 26250., 27500., 28750., 30000., 31250., 32500.,\n",
      "        33750., 35000., 36250., 37500., 38750.])\n"
     ]
    }
   ],
   "source": [
    "high_level_graph, low_level_graphs = calculate_sinusoidal_pe(high_level_subgraph, low_level_batch, 64)"
   ]
  },
  {
   "cell_type": "code",
   "execution_count": 16,
   "id": "b63b95e1",
   "metadata": {},
   "outputs": [
    {
     "name": "stdout",
     "output_type": "stream",
     "text": [
      "tensor([1.0000e+00, 7.4989e-01, 5.6234e-01, 4.2170e-01, 3.1623e-01, 2.3714e-01,\n",
      "        1.7783e-01, 1.3335e-01, 1.0000e-01, 7.4989e-02, 5.6234e-02, 4.2170e-02,\n",
      "        3.1623e-02, 2.3714e-02, 1.7783e-02, 1.3335e-02, 1.0000e-02, 7.4989e-03,\n",
      "        5.6234e-03, 4.2170e-03, 3.1623e-03, 2.3714e-03, 1.7783e-03, 1.3335e-03,\n",
      "        1.0000e-03, 7.4989e-04, 5.6234e-04, 4.2170e-04, 3.1623e-04, 2.3714e-04,\n",
      "        1.7783e-04, 1.3335e-04])\n"
     ]
    }
   ],
   "source": [
    "high_level_graph, low_level_graphs = calculate_sinusoidal_pe(high_level_subgraph, low_level_batch, 64)"
   ]
  },
  {
   "cell_type": "code",
   "execution_count": 25,
   "id": "0fcfa8ee",
   "metadata": {},
   "outputs": [
    {
     "data": {
      "text/plain": [
       "tensor([[ 0.0000,  1.0000, -0.0835,  ..., -0.8054, -0.5230, -0.8523],\n",
       "        [ 0.0000,  1.0000, -0.1259,  ..., -0.7987,  0.6978, -0.7163],\n",
       "        [ 0.0000,  1.0000, -0.1734,  ...,  0.4938,  0.7709,  0.6369],\n",
       "        ...,\n",
       "        [ 0.0000,  1.0000, -0.3045,  ..., -0.9898,  0.1658, -0.9862],\n",
       "        [ 0.0000,  1.0000, -0.1189,  ..., -0.9077,  0.5243, -0.8515],\n",
       "        [ 0.0000,  1.0000, -0.1471,  ..., -0.2803,  0.9907, -0.1357]])"
      ]
     },
     "execution_count": 25,
     "metadata": {},
     "output_type": "execute_result"
    }
   ],
   "source": [
    "low_level_graphs.pe"
   ]
  },
  {
   "cell_type": "code",
   "execution_count": 17,
   "id": "cd125dc5",
   "metadata": {},
   "outputs": [
    {
     "data": {
      "text/plain": [
       "tensor([[2.3399e-01, 9.7224e-01, 1.7619e-01,  ..., 1.0000e+00, 3.1495e-05,\n",
       "         1.0000e+00],\n",
       "        [3.4926e-01, 9.3702e-01, 2.6437e-01,  ..., 1.0000e+00, 4.7578e-05,\n",
       "         1.0000e+00],\n",
       "        [4.7280e-01, 8.8117e-01, 3.6096e-01,  ..., 1.0000e+00, 6.5671e-05,\n",
       "         1.0000e+00],\n",
       "        ...,\n",
       "        [7.6714e-01, 6.4148e-01, 6.0970e-01,  ..., 1.0000e+00, 1.1660e-04,\n",
       "         1.0000e+00],\n",
       "        [3.3036e-01, 9.4386e-01, 2.4980e-01,  ..., 1.0000e+00, 4.4897e-05,\n",
       "         1.0000e+00],\n",
       "        [4.0510e-01, 9.1427e-01, 3.0770e-01,  ..., 1.0000e+00, 5.5619e-05,\n",
       "         1.0000e+00]])"
      ]
     },
     "execution_count": 17,
     "metadata": {},
     "output_type": "execute_result"
    }
   ],
   "source": [
    "low_level_graphs.pe"
   ]
  },
  {
   "cell_type": "code",
   "execution_count": null,
   "id": "cf77ddb0",
   "metadata": {},
   "outputs": [],
   "source": []
  }
 ],
 "metadata": {
  "kernelspec": {
   "display_name": "SCGFM",
   "language": "python",
   "name": "python3"
  },
  "language_info": {
   "codemirror_mode": {
    "name": "ipython",
    "version": 3
   },
   "file_extension": ".py",
   "mimetype": "text/x-python",
   "name": "python",
   "nbconvert_exporter": "python",
   "pygments_lexer": "ipython3",
   "version": "3.12.3"
  }
 },
 "nbformat": 4,
 "nbformat_minor": 5
}
